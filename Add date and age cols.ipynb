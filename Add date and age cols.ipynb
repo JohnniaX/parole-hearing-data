{
 "metadata": {
  "name": "",
  "signature": "sha256:f1376bb5e666986c2e45aef85bae839460105da49df48d8edd8dc7594cc08667"
 },
 "nbformat": 3,
 "nbformat_minor": 0,
 "worksheets": [
  {
   "cells": [
    {
     "cell_type": "code",
     "collapsed": false,
     "input": [
      "import pandas as pd\n",
      "import numpy as np\n",
      "import matplotlib.pyplot as plt"
     ],
     "language": "python",
     "metadata": {},
     "outputs": [],
     "prompt_number": 1
    },
    {
     "cell_type": "code",
     "collapsed": false,
     "input": [
      "%matplotlib inline"
     ],
     "language": "python",
     "metadata": {},
     "outputs": [],
     "prompt_number": 2
    },
    {
     "cell_type": "code",
     "collapsed": false,
     "input": [
      "df = pd.read_csv('output_clean.csv')"
     ],
     "language": "python",
     "metadata": {},
     "outputs": [],
     "prompt_number": 3
    },
    {
     "cell_type": "markdown",
     "metadata": {},
     "source": [
      "**Rename columns**"
     ]
    },
    {
     "cell_type": "code",
     "collapsed": false,
     "input": [
      "col_names = ['NYSID', 'DIN', 'SEX', 'BIRTH DATE', 'RACE / ETHNICITY', 'HOUSING OR INTERVIEW FACILITY', 'PAROLE BOARD INTERVIEW DATE',\n",
      "             'PAROLE BOARD INTERVIEW TYPE', 'INTERVIEW DECISION', 'Year of Entry', 'Aggregated Minimum Sentence',\n",
      "             'Aggregated Maximum Sentence', 'Release Date', 'Release Type', 'Housing/Release Facility', 'Parole Eligibility Date',\n",
      "             'Conditional Release Date', 'Maximum Expiration Date', 'Parole ME Date', 'Post Release Supervision ME Date',\n",
      "             'Parole Board Discharge Date', 'Crime 1', 'Crime Class 1', 'County 1', 'Crime 2', 'Crime Class 2', 'County 2',\n",
      "             'Crime 3', 'Crime Class 3', 'County 3', 'Crime 4', 'Crime Class 4', 'County 4']"
     ],
     "language": "python",
     "metadata": {},
     "outputs": [],
     "prompt_number": 4
    },
    {
     "cell_type": "code",
     "collapsed": false,
     "input": [
      "df.columns = col_names"
     ],
     "language": "python",
     "metadata": {},
     "outputs": [],
     "prompt_number": 5
    },
    {
     "cell_type": "code",
     "collapsed": false,
     "input": [
      "df.head()"
     ],
     "language": "python",
     "metadata": {},
     "outputs": [
      {
       "html": [
        "<div style=\"max-height:1000px;max-width:1500px;overflow:auto;\">\n",
        "<table border=\"1\" class=\"dataframe\">\n",
        "  <thead>\n",
        "    <tr style=\"text-align: right;\">\n",
        "      <th></th>\n",
        "      <th>NYSID</th>\n",
        "      <th>DIN</th>\n",
        "      <th>SEX</th>\n",
        "      <th>BIRTH DATE</th>\n",
        "      <th>RACE / ETHNICITY</th>\n",
        "      <th>HOUSING OR INTERVIEW FACILITY</th>\n",
        "      <th>PAROLE BOARD INTERVIEW DATE</th>\n",
        "      <th>PAROLE BOARD INTERVIEW TYPE</th>\n",
        "      <th>INTERVIEW DECISION</th>\n",
        "      <th>Year of Entry</th>\n",
        "      <th>...</th>\n",
        "      <th>County 1</th>\n",
        "      <th>Crime 2</th>\n",
        "      <th>Crime Class 2</th>\n",
        "      <th>County 2</th>\n",
        "      <th>Crime 3</th>\n",
        "      <th>Crime Class 3</th>\n",
        "      <th>County 3</th>\n",
        "      <th>Crime 4</th>\n",
        "      <th>Crime Class 4</th>\n",
        "      <th>County 4</th>\n",
        "    </tr>\n",
        "  </thead>\n",
        "  <tbody>\n",
        "    <tr>\n",
        "      <th>0</th>\n",
        "      <td> 06407788K</td>\n",
        "      <td> 11R1805</td>\n",
        "      <td> MALE</td>\n",
        "      <td> 5/21/71</td>\n",
        "      <td> WHITE</td>\n",
        "      <td> GOUVERNEUR</td>\n",
        "      <td>  8/7/12</td>\n",
        "      <td>    INITIAL</td>\n",
        "      <td>     DENIED</td>\n",
        "      <td> 11</td>\n",
        "      <td>...</td>\n",
        "      <td>   NASSAU</td>\n",
        "      <td>  ATT ROBBERY-3</td>\n",
        "      <td>   E</td>\n",
        "      <td> NASSAU</td>\n",
        "      <td> NaN</td>\n",
        "      <td> NaN</td>\n",
        "      <td> NaN</td>\n",
        "      <td> NaN</td>\n",
        "      <td> NaN</td>\n",
        "      <td> NaN</td>\n",
        "    </tr>\n",
        "    <tr>\n",
        "      <th>1</th>\n",
        "      <td> 08983921M</td>\n",
        "      <td> 10B1715</td>\n",
        "      <td> MALE</td>\n",
        "      <td> 4/13/82</td>\n",
        "      <td> BLACK</td>\n",
        "      <td>    ORLEANS</td>\n",
        "      <td> 8/14/12</td>\n",
        "      <td>    INITIAL</td>\n",
        "      <td>     DENIED</td>\n",
        "      <td> 10</td>\n",
        "      <td>...</td>\n",
        "      <td>     ERIE</td>\n",
        "      <td> ATT CSCS-3 &gt;79</td>\n",
        "      <td>   C</td>\n",
        "      <td>   ERIE</td>\n",
        "      <td> NaN</td>\n",
        "      <td> NaN</td>\n",
        "      <td> NaN</td>\n",
        "      <td> NaN</td>\n",
        "      <td> NaN</td>\n",
        "      <td> NaN</td>\n",
        "    </tr>\n",
        "    <tr>\n",
        "      <th>2</th>\n",
        "      <td> 05631556J</td>\n",
        "      <td> 11R1449</td>\n",
        "      <td> MALE</td>\n",
        "      <td> 3/30/69</td>\n",
        "      <td> BLACK</td>\n",
        "      <td>    LINCOLN</td>\n",
        "      <td>  8/8/12</td>\n",
        "      <td> MERIT TIME</td>\n",
        "      <td> OR EARLIER</td>\n",
        "      <td> 11</td>\n",
        "      <td>...</td>\n",
        "      <td> NEW YORK</td>\n",
        "      <td>            NaN</td>\n",
        "      <td> NaN</td>\n",
        "      <td>    NaN</td>\n",
        "      <td> NaN</td>\n",
        "      <td> NaN</td>\n",
        "      <td> NaN</td>\n",
        "      <td> NaN</td>\n",
        "      <td> NaN</td>\n",
        "      <td> NaN</td>\n",
        "    </tr>\n",
        "    <tr>\n",
        "      <th>3</th>\n",
        "      <td> 04589189P</td>\n",
        "      <td> 12R0530</td>\n",
        "      <td> MALE</td>\n",
        "      <td> 7/30/62</td>\n",
        "      <td> BLACK</td>\n",
        "      <td>     GREENE</td>\n",
        "      <td> 8/14/12</td>\n",
        "      <td>    INITIAL</td>\n",
        "      <td>     DENIED</td>\n",
        "      <td> 12</td>\n",
        "      <td>...</td>\n",
        "      <td> NEW YORK</td>\n",
        "      <td>            NaN</td>\n",
        "      <td> NaN</td>\n",
        "      <td>    NaN</td>\n",
        "      <td> NaN</td>\n",
        "      <td> NaN</td>\n",
        "      <td> NaN</td>\n",
        "      <td> NaN</td>\n",
        "      <td> NaN</td>\n",
        "      <td> NaN</td>\n",
        "    </tr>\n",
        "    <tr>\n",
        "      <th>4</th>\n",
        "      <td> 04671729K</td>\n",
        "      <td> 85B0526</td>\n",
        "      <td> MALE</td>\n",
        "      <td> 8/28/64</td>\n",
        "      <td> WHITE</td>\n",
        "      <td>   FRANKLIN</td>\n",
        "      <td>  8/8/12</td>\n",
        "      <td>   REAPPEAR</td>\n",
        "      <td>  OPEN DATE</td>\n",
        "      <td> 85</td>\n",
        "      <td>...</td>\n",
        "      <td>    KINGS</td>\n",
        "      <td>            NaN</td>\n",
        "      <td> NaN</td>\n",
        "      <td>    NaN</td>\n",
        "      <td> NaN</td>\n",
        "      <td> NaN</td>\n",
        "      <td> NaN</td>\n",
        "      <td> NaN</td>\n",
        "      <td> NaN</td>\n",
        "      <td> NaN</td>\n",
        "    </tr>\n",
        "  </tbody>\n",
        "</table>\n",
        "<p>5 rows \u00d7 33 columns</p>\n",
        "</div>"
       ],
       "metadata": {},
       "output_type": "pyout",
       "prompt_number": 6,
       "text": [
        "       NYSID      DIN   SEX BIRTH DATE RACE / ETHNICITY  \\\n",
        "0  06407788K  11R1805  MALE    5/21/71            WHITE   \n",
        "1  08983921M  10B1715  MALE    4/13/82            BLACK   \n",
        "2  05631556J  11R1449  MALE    3/30/69            BLACK   \n",
        "3  04589189P  12R0530  MALE    7/30/62            BLACK   \n",
        "4  04671729K  85B0526  MALE    8/28/64            WHITE   \n",
        "\n",
        "  HOUSING OR INTERVIEW FACILITY PAROLE BOARD INTERVIEW DATE  \\\n",
        "0                    GOUVERNEUR                      8/7/12   \n",
        "1                       ORLEANS                     8/14/12   \n",
        "2                       LINCOLN                      8/8/12   \n",
        "3                        GREENE                     8/14/12   \n",
        "4                      FRANKLIN                      8/8/12   \n",
        "\n",
        "  PAROLE BOARD INTERVIEW TYPE INTERVIEW DECISION  Year of Entry  \\\n",
        "0                     INITIAL             DENIED             11   \n",
        "1                     INITIAL             DENIED             10   \n",
        "2                  MERIT TIME         OR EARLIER             11   \n",
        "3                     INITIAL             DENIED             12   \n",
        "4                    REAPPEAR          OPEN DATE             85   \n",
        "\n",
        "       ...        County 1         Crime 2 Crime Class 2 County 2 Crime 3  \\\n",
        "0      ...          NASSAU   ATT ROBBERY-3             E   NASSAU     NaN   \n",
        "1      ...            ERIE  ATT CSCS-3 >79             C     ERIE     NaN   \n",
        "2      ...        NEW YORK             NaN           NaN      NaN     NaN   \n",
        "3      ...        NEW YORK             NaN           NaN      NaN     NaN   \n",
        "4      ...           KINGS             NaN           NaN      NaN     NaN   \n",
        "\n",
        "  Crime Class 3 County 3 Crime 4 Crime Class 4 County 4  \n",
        "0           NaN      NaN     NaN           NaN      NaN  \n",
        "1           NaN      NaN     NaN           NaN      NaN  \n",
        "2           NaN      NaN     NaN           NaN      NaN  \n",
        "3           NaN      NaN     NaN           NaN      NaN  \n",
        "4           NaN      NaN     NaN           NaN      NaN  \n",
        "\n",
        "[5 rows x 33 columns]"
       ]
      }
     ],
     "prompt_number": 6
    },
    {
     "cell_type": "markdown",
     "metadata": {},
     "source": [
      "**Add column with four-digit year of entry**"
     ]
    },
    {
     "cell_type": "code",
     "collapsed": false,
     "input": [
      "def four_digit_year(two_digit_year, break_year = 50):\n",
      "    ''' Convert a two digit year to four digit year '''\n",
      "    try:\n",
      "        two_digit_year = int(two_digit_year)\n",
      "    except:\n",
      "        return np.NAN\n",
      "    if break_year >= two_digit_year >= 0:\n",
      "        year = two_digit_year + 2000\n",
      "    elif 99 >= two_digit_year > break_year:\n",
      "        year = two_digit_year + 1900\n",
      "    else:\n",
      "        year = np.NAN\n",
      "    return year"
     ],
     "language": "python",
     "metadata": {},
     "outputs": [],
     "prompt_number": 10
    },
    {
     "cell_type": "code",
     "collapsed": false,
     "input": [
      "df['Year of Entry 4 digit'] = df['Year of Entry'].apply(four_digit_year)"
     ],
     "language": "python",
     "metadata": {},
     "outputs": [],
     "prompt_number": 11
    },
    {
     "cell_type": "code",
     "collapsed": false,
     "input": [
      "# plot to check four digit year column\n",
      "min_year = int(df['Year of Entry 4 digit'].min())\n",
      "max_year = int(df['Year of Entry 4 digit'].max())\n",
      "plt.xlim(min_year, max_year)\n",
      "df['Year of Entry 4 digit'].hist(bins = range(min_year-1, max_year+2), figsize = (10,6))"
     ],
     "language": "python",
     "metadata": {},
     "outputs": [
      {
       "metadata": {},
       "output_type": "pyout",
       "prompt_number": 12,
       "text": [
        "<matplotlib.axes.AxesSubplot at 0x103874c50>"
       ]
      },
      {
       "metadata": {},
       "output_type": "display_data",
       "png": "[encoded data removed]",
       "text": [
        "<matplotlib.figure.Figure at 0x1020d8cd0>"
       ]
      }
     ],
     "prompt_number": 12
    },
    {
     "cell_type": "markdown",
     "metadata": {},
     "source": [
      "** Add column with age at hearing**"
     ]
    },
    {
     "cell_type": "code",
     "collapsed": false,
     "input": [
      "from datetime import datetime"
     ],
     "language": "python",
     "metadata": {},
     "outputs": [],
     "prompt_number": 13
    },
    {
     "cell_type": "code",
     "collapsed": false,
     "input": [
      "def calc_age(dob_str, interview_date_str):\n",
      "    born = datetime.strptime(dob_str, '%m/%d/%y')\n",
      "    if born.year > datetime.now().year:\n",
      "        born = datetime(born.year - 100, born.month, born.day)\n",
      "    interview = datetime.strptime(interview_date_str, '%m/%d/%y')\n",
      "    return interview.year - born.year - ((interview.month, interview.day) < (born.month, born.day))"
     ],
     "language": "python",
     "metadata": {},
     "outputs": [],
     "prompt_number": 14
    },
    {
     "cell_type": "code",
     "collapsed": false,
     "input": [
      "def age_at_interview(row):\n",
      "    try:\n",
      "        return calc_age(row['BIRTH DATE'], row['PAROLE BOARD INTERVIEW DATE'])\n",
      "    except:\n",
      "        return np.NaN"
     ],
     "language": "python",
     "metadata": {},
     "outputs": [],
     "prompt_number": 15
    },
    {
     "cell_type": "code",
     "collapsed": false,
     "input": [
      "df['Age at hearing'] = df.apply(lambda row: age_at_interview(row), axis = 1)"
     ],
     "language": "python",
     "metadata": {},
     "outputs": [],
     "prompt_number": 16
    },
    {
     "cell_type": "code",
     "collapsed": false,
     "input": [
      "df['Age at hearing'].hist()"
     ],
     "language": "python",
     "metadata": {},
     "outputs": [
      {
       "metadata": {},
       "output_type": "pyout",
       "prompt_number": 17,
       "text": [
        "<matplotlib.axes.AxesSubplot at 0x10910ec10>"
       ]
      },
      {
       "metadata": {},
       "output_type": "display_data",
       "png": "[encoded data removed]",
       "text": [
        "<matplotlib.figure.Figure at 0x107b312d0>"
       ]
      }
     ],
     "prompt_number": 17
    },
    {
     "cell_type": "markdown",
     "metadata": {},
     "source": [
      "**Add column with age at hearing binned by decade**"
     ]
    },
    {
     "cell_type": "code",
     "collapsed": false,
     "input": [
      "df['Age decade'] = pd.cut(df['Age at hearing'], bins = [10,20,30,40,50,60,70,80,90,100], right = False)"
     ],
     "language": "python",
     "metadata": {},
     "outputs": [],
     "prompt_number": 18
    },
    {
     "cell_type": "code",
     "collapsed": false,
     "input": [
      "df['Age decade'].value_counts()"
     ],
     "language": "python",
     "metadata": {},
     "outputs": [
      {
       "metadata": {},
       "output_type": "pyout",
       "prompt_number": 19,
       "text": [
        "[40, 50)    6298\n",
        "[30, 40)    5371\n",
        "[20, 30)    5280\n",
        "[50, 60)    4360\n",
        "[60, 70)    1179\n",
        "[10, 20)     410\n",
        "[70, 80)     243\n",
        "[80, 90)      39\n",
        "dtype: int64"
       ]
      }
     ],
     "prompt_number": 19
    },
    {
     "cell_type": "code",
     "collapsed": false,
     "input": [
      "df['Age decade'].value_counts().sort_index().plot(kind='bar')"
     ],
     "language": "python",
     "metadata": {},
     "outputs": [
      {
       "metadata": {},
       "output_type": "pyout",
       "prompt_number": 20,
       "text": [
        "<matplotlib.axes.AxesSubplot at 0x107bb9dd0>"
       ]
      },
      {
       "metadata": {},
       "output_type": "display_data",
       "png": "[encoded data removed]",
       "text": [
        "<matplotlib.figure.Figure at 0x107bc4810>"
       ]
      }
     ],
     "prompt_number": 20
    },
    {
     "cell_type": "code",
     "collapsed": false,
     "input": [
      "df.to_csv('parole_data.csv', index = False)"
     ],
     "language": "python",
     "metadata": {},
     "outputs": [],
     "prompt_number": 21
    },
    {
     "cell_type": "code",
     "collapsed": false,
     "input": [],
     "language": "python",
     "metadata": {},
     "outputs": []
    }
   ],
   "metadata": {}
  }
 ]
}